{
  "cells": [
    {
      "cell_type": "code",
      "execution_count": null,
      "metadata": {
        "colab": {
          "base_uri": "https://localhost:8080/"
        },
        "id": "Bnq_zaUkJWyO",
        "outputId": "c3101828-755f-4d78-c127-9bcb1685ff84"
      },
      "outputs": [],
      "source": [
        "# Install necessary libraries\n",
        "!pip install paho-mqtt"
      ]
    },
    {
      "cell_type": "code",
      "execution_count": null,
      "metadata": {},
      "outputs": [],
      "source": [
        "# Import necessary libraries\n",
        "import pandas as pd\n",
        "import paho.mqtt.client as mqtt\n",
        "import json\n",
        "import matplotlib.pyplot as plt\n",
        "from IPython.display import clear_output"
      ]
    },
    {
      "cell_type": "code",
      "execution_count": null,
      "metadata": {},
      "outputs": [],
      "source": [
        "# TTN application and device details\n",
        "app_id = \"<Username from 'Connection credential' of TTN MQTT Integration>\" \n",
        "access_key = \"<Password from 'Connection credential' of TTN MQTT Integration>\" \n",
        "device_id = \"<End device ID from TTN Application>\" "
      ]
    },
    {
      "cell_type": "code",
      "execution_count": null,
      "metadata": {},
      "outputs": [],
      "source": [
        "# Function to handle connection\n",
        "def on_connect(client, userdata, flags, rc):\n",
        "    print(\"Connected with result code \"+str(rc))\n",
        "    client.subscribe(\"v3/\"+ str(app_id) +\"/devices/\"+ str(device_id) +\"/up\")\n",
        "\n",
        "# Function to handle messages\n",
        "def on_message(client, userdata, message):\n",
        "    msg = message.payload.decode('utf-8')\n",
        "    # Parse the JSON data\n",
        "    data = json.loads(msg)\n",
        "\n",
        "    # Extract light and pressure fields\n",
        "    light = data['uplink_message']['decoded_payload']['light']\n",
        "    pressure = data['uplink_message']['decoded_payload']['pressure']\n",
        "    # Create a DataFrame to store light and pressure\n",
        "    temp_hum = {'light': light, 'pressure': pressure}\n",
        "    df.loc[len(df)] = temp_hum\n",
        "    plot_graphs()\n",
        "\n",
        "# Function to plot light and pressure graphs\n",
        "def plot_graphs():\n",
        "  if not df.empty:\n",
        "          # Creating subplots\n",
        "          fig, ax = plt.subplots(2, 1, figsize=(10, 8))\n",
        "          # Plot light\n",
        "          ax[0].plot(df.index, df['light'], label='light', color='red', marker='o')\n",
        "          ax[0].set_xlabel('Sample [#]')\n",
        "          ax[0].set_ylabel('Light [lx]')\n",
        "          ax[0].set_title('Light Plot')\n",
        "          ax[0].legend()\n",
        "          # Plot pressure\n",
        "          ax[1].plot(df.index, df['pressure'], label='pressure', color='blue', marker='x')\n",
        "          ax[1].set_xlabel('Sample [#]')\n",
        "          ax[1].set_ylabel('Pressure [Pa]')\n",
        "          ax[1].set_title('Pressure Plot')\n",
        "          ax[1].legend()\n",
        "          # Adjust layout\n",
        "          plt.tight_layout()\n",
        "          # Clear the output to replace it with the new one\n",
        "          clear_output(wait=True)\n",
        "          # Show the graphs\n",
        "          plt.show()"
      ]
    },
    {
      "cell_type": "code",
      "execution_count": null,
      "metadata": {
        "colab": {
          "base_uri": "https://localhost:8080/",
          "height": 807
        },
        "id": "068-Q2Os-W3D",
        "outputId": "08dbb081-082e-450e-92c8-4aa77aa58e1d"
      },
      "outputs": [],
      "source": [
        "# Create an empty DataFrame to store device light and pressure\n",
        "columns = ['light', 'pressure']\n",
        "df = pd.DataFrame(columns=columns)\n",
        "\n",
        "# Connect to TTN MQTT\n",
        "client = mqtt.Client(mqtt.CallbackAPIVersion.VERSION1, 'prova')\n",
        "client.username_pw_set(username=app_id, password=access_key)\n",
        "client.on_connect = on_connect\n",
        "client.on_message = on_message\n",
        "\n",
        "# Connect to the MQTT broker\n",
        "client.connect(\"eu1.cloud.thethings.network\", 1883, 60)\n",
        "\n",
        "# Start the MQTT client loop\n",
        "client.loop_forever()"
      ]
    }
  ],
  "metadata": {
    "colab": {
      "provenance": []
    },
    "kernelspec": {
      "display_name": "Python 3",
      "name": "python3"
    },
    "language_info": {
      "name": "python"
    }
  },
  "nbformat": 4,
  "nbformat_minor": 0
}
