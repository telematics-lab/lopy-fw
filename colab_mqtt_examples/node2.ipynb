{
  "cells": [
    {
      "cell_type": "code",
      "execution_count": null,
      "metadata": {
        "colab": {
          "base_uri": "https://localhost:8080/"
        },
        "id": "Bnq_zaUkJWyO",
        "outputId": "7a3a7046-a763-418f-b6fc-481e0974539a"
      },
      "outputs": [],
      "source": [
        "# Install necessary libraries\n",
        "!pip install paho-mqtt"
      ]
    },
    {
      "cell_type": "code",
      "execution_count": null,
      "metadata": {},
      "outputs": [],
      "source": [
        "# Import necessary libraries\n",
        "import pandas as pd\n",
        "import paho.mqtt.client as mqtt\n",
        "import json\n",
        "import matplotlib.pyplot as plt\n",
        "from IPython.display import clear_output"
      ]
    },
    {
      "cell_type": "code",
      "execution_count": null,
      "metadata": {},
      "outputs": [],
      "source": [
        "# TTN application and device details\n",
        "app_id = \"<Username from 'Connection credential' of TTN MQTT Integration>\" \n",
        "access_key = \"<Password from 'Connection credential' of TTN MQTT Integration>\" \n",
        "device_id = \"<End device ID from TTN Application>\" "
      ]
    },
    {
      "cell_type": "code",
      "execution_count": null,
      "metadata": {},
      "outputs": [],
      "source": [
        "# Function to handle connection\n",
        "def on_connect(client, userdata, flags, rc):\n",
        "    print(\"Connected with result code \"+str(rc))\n",
        "    client.subscribe(\"v3/\"+ str(app_id) +\"/devices/\"+ str(device_id) +\"/up\")\n",
        "\n",
        "# Function to handle messages\n",
        "def on_message(client, userdata, message):\n",
        "    msg = message.payload.decode('utf-8')\n",
        "    # Parse the JSON data\n",
        "    data = json.loads(msg)\n",
        "\n",
        "    # Extract temperature and humidity fields\n",
        "    temperature = data['uplink_message']['decoded_payload']['temperature']\n",
        "    humidity = data['uplink_message']['decoded_payload']['humidity']\n",
        "    # Create a DataFrame to store temperature and humidity\n",
        "    temp_hum = {'temperature': temperature, 'humidity': humidity}\n",
        "    df.loc[len(df)] = temp_hum\n",
        "    plot_graphs()\n",
        "\n",
        "# Function to plot temperature and humidity graphs\n",
        "def plot_graphs():\n",
        "  if not df.empty:\n",
        "          # Creating subplots\n",
        "          fig, ax = plt.subplots(2, 1, figsize=(10, 8))\n",
        "          # Plot temperature\n",
        "          ax[0].plot(df.index, df['temperature'], label='Temperature', color='red', marker='o')\n",
        "          ax[0].set_xlabel('Sample [#]')\n",
        "          ax[0].set_ylabel('Temperature [°]')\n",
        "          ax[0].set_title('Temperature Plot')\n",
        "          ax[0].legend()\n",
        "          # Plot humidity\n",
        "          ax[1].plot(df.index, df['humidity'], label='Humidity', color='blue', marker='x')\n",
        "          ax[1].set_xlabel('Sample [#]')\n",
        "          ax[1].set_ylabel('Humidity [%RH]')\n",
        "          ax[1].set_title('Humidity Plot')\n",
        "          ax[1].legend()\n",
        "          # Adjust layout\n",
        "          plt.tight_layout()\n",
        "          # Clear the output to replace it with the new one\n",
        "          clear_output(wait=True)\n",
        "          # Show the graphs\n",
        "          plt.show()"
      ]
    },
    {
      "cell_type": "code",
      "execution_count": null,
      "metadata": {
        "colab": {
          "base_uri": "https://localhost:8080/",
          "height": 1000
        },
        "id": "068-Q2Os-W3D",
        "outputId": "0c883e3b-be55-4c02-abe4-eb5bc21f2d7e"
      },
      "outputs": [],
      "source": [
        "# Create an empty DataFrame to store device temperature and humidity\n",
        "columns = ['temperature', 'humidity']\n",
        "df = pd.DataFrame(columns=columns)\n",
        "\n",
        "# Connect to TTN MQTT\n",
        "client = mqtt.Client(mqtt.CallbackAPIVersion.VERSION1, 'prova')\n",
        "client.username_pw_set(username=app_id, password=access_key)\n",
        "client.on_connect = on_connect\n",
        "client.on_message = on_message\n",
        "\n",
        "# Connect to the MQTT broker\n",
        "client.connect(\"eu1.cloud.thethings.network\", 1883, 60)\n",
        "\n",
        "# Start the MQTT client loop\n",
        "client.loop_forever()"
      ]
    }
  ],
  "metadata": {
    "colab": {
      "provenance": []
    },
    "kernelspec": {
      "display_name": "Python 3",
      "name": "python3"
    },
    "language_info": {
      "name": "python"
    }
  },
  "nbformat": 4,
  "nbformat_minor": 0
}
