{
  "cells": [
    {
      "cell_type": "code",
      "execution_count": null,
      "metadata": {
        "colab": {
          "base_uri": "https://localhost:8080/"
        },
        "id": "Bnq_zaUkJWyO",
        "outputId": "8a44a08e-c72f-4624-ed89-57a19f2f2e20"
      },
      "outputs": [],
      "source": [
        "# Install necessary libraries\n",
        "!pip install paho-mqtt folium"
      ]
    },
    {
      "cell_type": "code",
      "execution_count": null,
      "metadata": {},
      "outputs": [],
      "source": [
        "# Import necessary libraries\n",
        "import pandas as pd\n",
        "import folium\n",
        "import paho.mqtt.client as mqtt\n",
        "import json\n",
        "from IPython.display import clear_output"
      ]
    },
    {
      "cell_type": "code",
      "execution_count": null,
      "metadata": {},
      "outputs": [],
      "source": [
        "# TTN application and device details\n",
        "app_id = \"<Username from 'Connection credential' of TTN MQTT Integration>\" \n",
        "access_key = \"<Password from 'Connection credential' of TTN MQTT Integration>\" \n",
        "device_id = \"<End device ID from TTN Application>\" "
      ]
    },
    {
      "cell_type": "code",
      "execution_count": null,
      "metadata": {},
      "outputs": [],
      "source": [
        "# Function to handle connection\n",
        "def on_connect(client, userdata, flags, rc):\n",
        "    print(\"Connected with result code \"+str(rc))\n",
        "    client.subscribe(\"v3/\"+ str(app_id) +\"/devices/\"+ str(device_id) +\"/up\")\n",
        "\n",
        "# Function to handle messages\n",
        "def on_message(client, userdata, message):\n",
        "    msg = message.payload.decode('utf-8')\n",
        "    # Parse the JSON data\n",
        "    data = json.loads(msg)\n",
        "\n",
        "    # Extract location fields\n",
        "    latitude = data['uplink_message']['decoded_payload']['latitude']\n",
        "    longitude = data['uplink_message']['decoded_payload']['longitude']\n",
        "    # Create a DataFrame to store location\n",
        "    coord = {'latitude': latitude, 'longitude': longitude}\n",
        "    df.loc[len(df)] = coord\n",
        "    plot_locations_on_map()\n",
        "\n",
        "# Function to plot the locations on a map\n",
        "def plot_locations_on_map():\n",
        "  if not df.empty:\n",
        "          for index, row in df.iterrows():\n",
        "              folium.Marker([row['latitude'], row['longitude']]).add_to(m)\n",
        "          clear_output(wait=True)\n",
        "          display(m)"
      ]
    },
    {
      "cell_type": "code",
      "execution_count": null,
      "metadata": {
        "colab": {
          "base_uri": "https://localhost:8080/",
          "height": 1000
        },
        "id": "068-Q2Os-W3D",
        "outputId": "02a11f2b-8504-44b8-a096-fb8b381ad05d"
      },
      "outputs": [],
      "source": [
        "# Create an empty DataFrame to store device locations\n",
        "columns = ['latitude', 'longitude']\n",
        "df = pd.DataFrame(columns=columns)\n",
        "\n",
        "# Connect to TTN MQTT\n",
        "client = mqtt.Client(mqtt.CallbackAPIVersion.VERSION1, 'prova')\n",
        "client.username_pw_set(username=app_id, password=access_key)\n",
        "client.on_connect = on_connect\n",
        "client.on_message = on_message\n",
        "\n",
        "# Connect to the MQTT broker\n",
        "client.connect(\"eu1.cloud.thethings.network\", 1883, 60)\n",
        "\n",
        "m = folium.Map(location=[41.110160,16.878887], zoom_start=20)\n",
        "\n",
        "# Start the MQTT client loop\n",
        "client.loop_forever()"
      ]
    }
  ],
  "metadata": {
    "colab": {
      "provenance": []
    },
    "kernelspec": {
      "display_name": "Python 3",
      "name": "python3"
    },
    "language_info": {
      "name": "python"
    }
  },
  "nbformat": 4,
  "nbformat_minor": 0
}
